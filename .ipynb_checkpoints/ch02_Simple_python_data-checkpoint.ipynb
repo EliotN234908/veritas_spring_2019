{
 "cells": [
  {
   "cell_type": "code",
   "execution_count": null,
   "metadata": {},
   "outputs": [],
   "source": []
  },
  {
   "cell_type": "markdown",
   "metadata": {},
   "source": [
    "# 2.2 Values and Data Types\n",
    "A value is one of the funadamental things.  It is like a word or number that a program shows.\n",
    "  The values are called objects. Objects are classified into different classes or data types.\n",
    "  A string is a sequence of letters. The interpeter and yourself can identify strings when they are closed with quotation marks.  \n",
    "  If you don't know what "
   ]
  },
  {
   "cell_type": "markdown",
   "metadata": {},
   "source": []
  }
 ],
 "metadata": {
  "kernelspec": {
   "display_name": "Python 3",
   "language": "python",
   "name": "python3"
  },
  "language_info": {
   "codemirror_mode": {
    "name": "ipython",
    "version": 3
   },
   "file_extension": ".py",
   "mimetype": "text/x-python",
   "name": "python",
   "nbconvert_exporter": "python",
   "pygments_lexer": "ipython3",
   "version": "3.7.1"
  }
 },
 "nbformat": 4,
 "nbformat_minor": 2
}
